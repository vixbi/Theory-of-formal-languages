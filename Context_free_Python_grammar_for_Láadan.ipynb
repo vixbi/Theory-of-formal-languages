{
  "nbformat": 4,
  "nbformat_minor": 0,
  "metadata": {
    "colab": {
      "provenance": [],
      "authorship_tag": "ABX9TyNN0qS1JU+OIZl5vvbT1ez6"
    },
    "kernelspec": {
      "name": "python3",
      "display_name": "Python 3"
    },
    "language_info": {
      "name": "python"
    }
  },
  "cells": [
    {
      "cell_type": "markdown",
      "source": [
        "# Контекстно-свободная грамматика для языка [Láadan](https://en.wikipedia.org/wiki/L%C3%A1adan)\n",
        "Правила:\n",
        "```\n",
        "start: sentence\n",
        "sentence: verb_phrase subject_phrase object_phrase? EVIDENCE_PARTICLE? EOS\n",
        "\n",
        "verb_phrase: SPEECH_ACT_PARTICLE? TENSE_PARTICLE verb_form\n",
        "verb_form: \"me\"? VERB\n",
        "subject_phrase : NOUN | pronoun_marked | adjective_phrase\n",
        "adjective_phrase: \"wo\" NOUN \"wo\" ADJ\n",
        "pronoun_marked: PRONOUN_STEM \"e\" | \"a\" | \"i\"\n",
        "object_phrase: NOUN \"th\"\n",
        "\n",
        "EOS: \".\" | \"!\" | \"?\"\n",
        "SPEECH_ACT_PARTICLE: \"bíi\" | \"báa\" | \"bó\" | \"bóo\" | \"bé\" | \"bée\"\n",
        "TENSE_PARTICLE: \"ril\" | \"eril\" | \"aril\"\n",
        "EVIDENCE_PARTICLE: \"wa\" | \"wi\" | \"we\" | \"wáa\" | \"waá\" | \"wo\" | \"wóo\"\n",
        "\n",
        "NOUN: \"bo\" | \"doyu\" | \"edan\" | \"rul\"| \"with\" | \"yu\"\n",
        "VERB: \"áya\" | \"thi\" | \"yod\" | \"úuya\"\n",
        "ADJ: \"áya\"\n",
        "PRONOUN_STEM: \"l\" | \"n\" | \"b\"\n",
        "\n",
        "%import common.WS\n",
        "%ignore /([wo]?<!) /\n",
        "%ignore WS\n",
        "\n",
        "```\n",
        "\n",
        "Лаадан-английский словарь словарь:\n",
        "* Speech-act particles:\n",
        " * `bíi`: declarative sentence\n",
        " * `báa`: interrogative sentence\n",
        " * `bó`: imperative sentence\n",
        " * `bóo`: request sentence\n",
        " * `bé`: promisse sentence\n",
        " * `bée`: warning sentence\n",
        "* Tense particles:\n",
        " * `ril`: present\n",
        " * `eril`: past\n",
        " * `aril`: future\n",
        "* Evidential particles:\n",
        " * `wa`: known to speaker because perceived by speaker, externally or internally\n",
        " * `wi`: known to speaker because self-evident\n",
        " * `we`: perceived by speaker in a dream\n",
        " * `wáa`: assumed true by speaker because speaker trusts source\n",
        " * `waá`: assumed false by speaker because speaker distrusts source; if evil intent by the source is also assumed\n",
        " * `wo`: imagined or invented by speaker, hypothetical\n",
        " * `wóo`: used to indicate that the speaker states a total lack of knowledge as to the validity of the matter\n",
        "* Content words:\n",
        " * `bo`: mountain\n",
        " * `doyu`: apple\n",
        " * `edan`: linguistics\n",
        " * `rul`: cat\n",
        " * `with`: human, woman\n",
        " * `yu`: fruit\n",
        "* Functional words:\n",
        " * `a`: to love an inanimate object, love for it\n",
        " * `áya`: beautiful, to be beautiful\n",
        " * `thi`: to habe\n",
        " * `yod`: to eat\n",
        "  * `úuya`: to hurt, to feel pain\n",
        "* Pronouns:\n",
        " * к местоимениям **обязательно** прибавляется гласная `e/i/a`: `e`: немаркированно, `a`: о любимом человеке, `i`: об уважаемом человеке\n",
        " * `l-` : I\n",
        " * `n-`: you\n",
        " * `b-`: (s)he"
      ],
      "metadata": {
        "id": "J7mmqjrFx2DX"
      }
    },
    {
      "cell_type": "code",
      "source": [
        "!pip install lark anytree"
      ],
      "metadata": {
        "colab": {
          "base_uri": "https://localhost:8080/"
        },
        "id": "_RjX0NBvdsY9",
        "outputId": "38d5cd52-c9fe-4f21-ba65-3f11b1e39700"
      },
      "execution_count": 7,
      "outputs": [
        {
          "output_type": "stream",
          "name": "stdout",
          "text": [
            "Requirement already satisfied: lark in /usr/local/lib/python3.11/dist-packages (1.2.2)\n",
            "Requirement already satisfied: anytree in /usr/local/lib/python3.11/dist-packages (2.13.0)\n"
          ]
        }
      ]
    },
    {
      "cell_type": "code",
      "source": [
        "from lark import Lark, Tree, Token, Transformer, Visitor\n",
        "\n",
        "from anytree import Node, RenderTree, find_by_attr"
      ],
      "metadata": {
        "id": "vXef9PqTsP2g"
      },
      "execution_count": 8,
      "outputs": []
    },
    {
      "cell_type": "code",
      "source": [
        "laadan_grammar = \"\"\"\n",
        "start: sentence\n",
        "sentence: verb_phrase subject_phrase object_phrase? EVIDENCE_PARTICLE? EOS\n",
        "\n",
        "verb_phrase: SPEECH_ACT_PARTICLE? TENSE_PARTICLE verb_form\n",
        "verb_form: \"me\"? VERB\n",
        "subject_phrase : NOUN | pronoun_marked | adjective_phrase\n",
        "adjective_phrase: \"wo\" NOUN \"wo\" ADJ\n",
        "pronoun_marked: PRONOUN_STEM \"e\" | \"a\" | \"i\"\n",
        "object_phrase: NOUN \"th\"\n",
        "\n",
        "EOS: \".\" | \"!\" | \"?\"\n",
        "SPEECH_ACT_PARTICLE: \"bíi\" | \"báa\" | \"bó\" | \"bóo\" | \"bé\" | \"bée\"\n",
        "TENSE_PARTICLE: \"ril\" | \"eril\" | \"aril\"\n",
        "EVIDENCE_PARTICLE: \"wa\" | \"wi\" | \"we\" | \"wáa\" | \"waá\" | \"wo\" | \"wóo\"\n",
        "\n",
        "NOUN: \"bo\" | \"doyu\" | \"edan\" | \"rul\"| \"with\" | \"yu\"\n",
        "VERB: \"áya\" | \"thi\" | \"yod\" | \"úuya\"\n",
        "ADJ: \"áya\"\n",
        "PRONOUN_STEM: \"l\" | \"n\" | \"b\"\n",
        "\n",
        "%import common.WS\n",
        "%ignore /([wo]?<!) /\n",
        "%ignore WS\n",
        "\"\"\"\n",
        "\n",
        "laadan_parser = Lark(laadan_grammar, start='start')"
      ],
      "metadata": {
        "id": "ae8PSb4QIJCn"
      },
      "execution_count": 9,
      "outputs": []
    },
    {
      "cell_type": "code",
      "source": [
        "sent = \"bíi eril yod le doyuth wa.\" # я съела яблоко\n",
        "tree = laadan_parser.parse(sent)\n",
        "print(tree.pretty())"
      ],
      "metadata": {
        "colab": {
          "base_uri": "https://localhost:8080/"
        },
        "id": "XXG9dlk9mZQQ",
        "outputId": "8906c3b6-4200-48e4-8e72-3c2dabbadfd3"
      },
      "execution_count": 10,
      "outputs": [
        {
          "output_type": "stream",
          "name": "stdout",
          "text": [
            "start\n",
            "  sentence\n",
            "    verb_phrase\n",
            "      bíi\n",
            "      eril\n",
            "      verb_form\tyod\n",
            "    subject_phrase\n",
            "      pronoun_marked\tl\n",
            "    object_phrase\tdoyu\n",
            "    wa\n",
            "    .\n",
            "\n"
          ]
        }
      ]
    },
    {
      "cell_type": "markdown",
      "source": [
        "# Дерево"
      ],
      "metadata": {
        "id": "iDi3DS80ngYr"
      }
    },
    {
      "cell_type": "code",
      "source": [
        "def tree_to_anytree(lark_node, parent=None):\n",
        "    if isinstance(lark_node, Tree):\n",
        "        node = Node(lark_node.data, parent=parent)\n",
        "        for child in lark_node.children:\n",
        "            tree_to_anytree(child, parent=node)\n",
        "        return node\n",
        "    elif isinstance(lark_node, Token):\n",
        "        return Node(f\"{lark_node.type}: {lark_node.value}\", parent=parent)\n",
        "\n",
        "anytree_root = tree_to_anytree(laadan_parser.parse(\"bíi eril yod le doyuth wa.\"))\n",
        "for pre, _, node in RenderTree(anytree_root):\n",
        "    print(f\"{pre}{node.name}\")"
      ],
      "metadata": {
        "colab": {
          "base_uri": "https://localhost:8080/"
        },
        "id": "aeucKaIprdNS",
        "outputId": "9ff68973-5953-4110-9cc2-67e9e3f053f8"
      },
      "execution_count": 11,
      "outputs": [
        {
          "output_type": "stream",
          "name": "stdout",
          "text": [
            "start\n",
            "└── sentence\n",
            "    ├── verb_phrase\n",
            "    │   ├── SPEECH_ACT_PARTICLE: bíi\n",
            "    │   ├── TENSE_PARTICLE: eril\n",
            "    │   └── verb_form\n",
            "    │       └── VERB: yod\n",
            "    ├── subject_phrase\n",
            "    │   └── pronoun_marked\n",
            "    │       └── PRONOUN_STEM: l\n",
            "    ├── object_phrase\n",
            "    │   └── NOUN: doyu\n",
            "    ├── EVIDENCE_PARTICLE: wa\n",
            "    └── EOS: .\n"
          ]
        }
      ]
    },
    {
      "cell_type": "markdown",
      "source": [
        "# Переводчик\n",
        "но такой если бы в английском все глаголы спрягались как слабые"
      ],
      "metadata": {
        "id": "TX9HIWEx7fFS"
      }
    },
    {
      "cell_type": "code",
      "source": [
        "def translate(s: str):\n",
        "    dictionary = {\n",
        "        \"l\":\"I\",\n",
        "        \"n\": \"you\",\n",
        "        \"d\": \"they\",\n",
        "\n",
        "        \"bo\": \"mountain\",\n",
        "        \"doyu\": \"apple\",\n",
        "        \"edan\": \"linguistics\",\n",
        "        \"rul\": \"cat\",\n",
        "        \"with\": \"woman\",\n",
        "        \"yu\": \"fruit\",\n",
        "\n",
        "        \"a\": \"love\",\n",
        "        \"áya\": \"beautiful\",\n",
        "        \"thi\": \"have\",\n",
        "        \"yod\": \"eat\",\n",
        "        \"úuya\": \"hurt\"\n",
        "    }\n",
        "    return dictionary[s]\n",
        "\n",
        "\n",
        "class SimpleTranslator(Visitor):\n",
        "    def __init__(self):\n",
        "        self.subject = None\n",
        "        self.verb = None\n",
        "        self.obj = None\n",
        "        self.tense = None\n",
        "        self.act = None\n",
        "        self.eos = None\n",
        "\n",
        "\n",
        "    def __default__(self, node):\n",
        "        if node.data == \"object_phrase\":\n",
        "            self.obj = translate(node.children[0].value)\n",
        "        elif node.data == \"subject_phrase\":\n",
        "            n = node.children[0]\n",
        "            if isinstance(n, Token):\n",
        "                self.subject = translate(n.value)\n",
        "            elif n.data == \"pronoun_marked\":\n",
        "                self.subject = translate(n.children[0].value)\n",
        "            elif n.data == \"adjective_phrase\":\n",
        "                self.subject = translate(n.children[1].value) + \" \" + translate(n.children[0].value)\n",
        "        elif node.data == \"verb_phrase\":\n",
        "            for n in node.children:\n",
        "                if isinstance(n, Token) and n.type == \"SPEECH_ACT_PARTICLE\":\n",
        "                    self.act = n.value\n",
        "                elif isinstance(n, Token) and n.type == \"TENSE_PARTICLE\":\n",
        "                    self.tense = n.value\n",
        "                elif isinstance(n, Tree) and n.data == \"verb_form\":\n",
        "                    self.verb = translate(n.children[0].value)\n",
        "        elif node.data == \"sentence\":\n",
        "            for n in node.children:\n",
        "                if isinstance(n, Token) and n.type == \"EOS\":\n",
        "                    self.eos = n.value\n",
        "\n",
        "    def get_result(self):\n",
        "        # print(self.obj, self.subject, self.verb, self.tense, self.act, self.eos)\n",
        "        leading_group = self.subject + \" \" + self.verb\n",
        "        if self.tense == \"ril\" and self.act == \"báa\":\n",
        "            leading_group = \"Do \" + leading_group\n",
        "        elif self.tense == \"eril\" and self.act == \"báa\":\n",
        "            leading_group = \"Did \" + leading_group\n",
        "        elif self.tense == \"eril\" and self.act != \"báa\":\n",
        "            leading_group = leading_group+\"ed\"\n",
        "        elif self.tense == \"aril\" and self.act == \"báa\":\n",
        "            leading_group = \"Will \" + leading_group\n",
        "        elif self.tense == \"aril\" and self.act != \"báa\":\n",
        "            leading_group = self.subject + \" will \" + self.verb\n",
        "        return leading_group+(\" \"+self.obj if self.obj != None else \"\")+self.eos"
      ],
      "metadata": {
        "id": "RzwVsZPkzJPh"
      },
      "execution_count": 38,
      "outputs": []
    },
    {
      "cell_type": "code",
      "source": [
        "sentence_tree = laadan_parser.parse(\"bíi aril yod le doyuth wa.\")\n",
        "tr = SimpleTranslator()\n",
        "tr.visit(sentence_tree)\n",
        "print(tr.get_result())"
      ],
      "metadata": {
        "colab": {
          "base_uri": "https://localhost:8080/"
        },
        "id": "T5dgx_9CC3zX",
        "outputId": "5cb95d5a-0bd6-4204-a0e5-ca8f484fd0c7"
      },
      "execution_count": 41,
      "outputs": [
        {
          "output_type": "stream",
          "name": "stdout",
          "text": [
            "I will eat apple.\n"
          ]
        }
      ]
    }
  ]
}