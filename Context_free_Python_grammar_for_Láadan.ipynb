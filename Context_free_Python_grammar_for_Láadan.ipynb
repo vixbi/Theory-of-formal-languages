{
  "nbformat": 4,
  "nbformat_minor": 0,
  "metadata": {
    "colab": {
      "provenance": [],
      "authorship_tag": "ABX9TyMBle6acwIqh54hqQ1r9QlI"
    },
    "kernelspec": {
      "name": "python3",
      "display_name": "Python 3"
    },
    "language_info": {
      "name": "python"
    }
  },
  "cells": [
    {
      "cell_type": "markdown",
      "source": [
        "# Контекстно-свободная грамматика для языка [Láadan](https://en.wikipedia.org/wiki/L%C3%A1adan)\n",
        "Правила:\n",
        "```\n",
        "start: sentence\n",
        "sentence: verb_phrase subject_phrase object_phrase? EVIDENCE_PARTICLE? EOS\n",
        "\n",
        "verb_phrase: SPEECH_ACT_PARTICLE? TENSE_PARTICLE verb_form\n",
        "verb_form: \"me\"? VERB\n",
        "subject_phrase : NOUN | pronoun_marked | adjective_phrase\n",
        "adjective_phrase: \"wo\" NOUN \"wo\" ADJ\n",
        "pronoun_marked: PRONOUN_STEM \"e\" | \"a\" | \"i\"\n",
        "object_phrase: NOUN \"th\"\n",
        "\n",
        "EOS: \".\" | \"!\" | \"?\"\n",
        "SPEECH_ACT_PARTICLE: \"bíi\" | \"báa\" | \"bó\" | \"bóo\" | \"bé\" | \"bée\"\n",
        "TENSE_PARTICLE: \"ril\" | \"eril\" | \"aril\"\n",
        "EVIDENCE_PARTICLE: \"wa\" | \"wi\" | \"we\" | \"wáa\" | \"waá\" | \"wo\" | \"wóo\"\n",
        "\n",
        "NOUN: \"bo\" | \"doyu\" | \"edan\" | \"rul\"| \"with\" | \"yu\"\n",
        "VERB: \"áya\" | \"thi\" | \"yod\" | \"úuya\"\n",
        "ADJ: \"áya\"\n",
        "PRONOUN_STEM: \"l\" | \"n\" | \"b\"\n",
        "\n",
        "%import common.WS\n",
        "%ignore /([wo]?<!) /\n",
        "%ignore WS\n",
        "\n",
        "```\n",
        "\n",
        "Лаадан-русский словарь:\n",
        "* Частицы речевого акта:\n",
        " * `bíi`: (немаркированное) повествовательная частица\n",
        " * `báa`: интеррогатив\n",
        " * `bó`: императив (как правило, к детям)\n",
        " * `bóo`: гортатив\n",
        " * `bé`: промиссив\n",
        " * `bée`: адмонитив\n",
        "* Временные частицы для функциональных слов:\n",
        " * `ril`: настоящее время\n",
        " * `eril`: прошедшее время\n",
        " * `aril`: будущее время\n",
        "* Эвиденциальные частицы:\n",
        " * `wa`: говорящий пережил описанное\n",
        " * `wi`: говорящий был свидетелем описанного\n",
        " * `we`: говорящий видел описанное во сне\n",
        " * `wáa`: надежный репортатив: воспринимается как правда, информация от надежного источника\n",
        " * `waá`: ненадежный репортатив: воспринимается как ложь, информация от ненадежного источника\n",
        " * `wo`: говорящий представляет описанное\n",
        " * `wóo`: говорящий не обладает знаниями о достоверности описанного\n",
        "* Материальные слова:\n",
        " * `bo`: гора\n",
        " * `doyu`: яблоко\n",
        " * `edan`: лингвистика\n",
        " * `rul`: кот\n",
        " * `with`: человек, женщина (аналогично англ. *man*)\n",
        " * `yu`: фрукт\n",
        "* Функциональные слова:\n",
        " * `a`: любовь/любить в отношении неодушевленных объектов\n",
        " * `áya`: красивый, быть красивым\n",
        " * `thi`: иметь\n",
        " * `yod`: есть\n",
        "  * `úuya`: ранить, испытывать боль\n",
        "* Местоимения:\n",
        " * к местоимениям **обязательно** прибавляется гласная `e/i/a`: `e`: немаркированно, `a`: о любимом человеке, `i`: об уважаемом человеке\n",
        " * `l-` : я\n",
        " * `n-`: ты\n",
        " * `b-`: он(а)"
      ],
      "metadata": {
        "id": "J7mmqjrFx2DX"
      }
    },
    {
      "cell_type": "code",
      "source": [
        "!pip install lark anytree"
      ],
      "metadata": {
        "colab": {
          "base_uri": "https://localhost:8080/"
        },
        "id": "_RjX0NBvdsY9",
        "outputId": "4ceacbe9-f9b5-41c1-e42c-56c6104e44dd"
      },
      "execution_count": 65,
      "outputs": [
        {
          "output_type": "stream",
          "name": "stdout",
          "text": [
            "Requirement already satisfied: lark in /usr/local/lib/python3.11/dist-packages (1.2.2)\n",
            "Collecting anytree\n",
            "  Downloading anytree-2.13.0-py3-none-any.whl.metadata (8.0 kB)\n",
            "Downloading anytree-2.13.0-py3-none-any.whl (45 kB)\n",
            "\u001b[2K   \u001b[90m━━━━━━━━━━━━━━━━━━━━━━━━━━━━━━━━━━━━━━━━\u001b[0m \u001b[32m45.1/45.1 kB\u001b[0m \u001b[31m1.5 MB/s\u001b[0m eta \u001b[36m0:00:00\u001b[0m\n",
            "\u001b[?25hInstalling collected packages: anytree\n",
            "Successfully installed anytree-2.13.0\n"
          ]
        }
      ]
    },
    {
      "cell_type": "code",
      "source": [
        "from lark import Lark, Tree, Token\n",
        "from lark import Transformer\n",
        "\n",
        "from anytree import Node, RenderTree"
      ],
      "metadata": {
        "id": "vXef9PqTsP2g"
      },
      "execution_count": 69,
      "outputs": []
    },
    {
      "cell_type": "code",
      "source": [
        "laadan_grammar = \"\"\"\n",
        "start: sentence\n",
        "sentence: verb_phrase subject_phrase object_phrase? EVIDENCE_PARTICLE? EOS\n",
        "\n",
        "verb_phrase: SPEECH_ACT_PARTICLE? TENSE_PARTICLE verb_form\n",
        "verb_form: \"me\"? VERB\n",
        "subject_phrase : NOUN | pronoun_marked | adjective_phrase\n",
        "adjective_phrase: \"wo\" NOUN \"wo\" ADJ\n",
        "pronoun_marked: PRONOUN_STEM \"e\" | \"a\" | \"i\"\n",
        "object_phrase: NOUN \"th\"\n",
        "\n",
        "EOS: \".\" | \"!\" | \"?\"\n",
        "SPEECH_ACT_PARTICLE: \"bíi\" | \"báa\" | \"bó\" | \"bóo\" | \"bé\" | \"bée\"\n",
        "TENSE_PARTICLE: \"ril\" | \"eril\" | \"aril\"\n",
        "EVIDENCE_PARTICLE: \"wa\" | \"wi\" | \"we\" | \"wáa\" | \"waá\" | \"wo\" | \"wóo\"\n",
        "\n",
        "NOUN: \"bo\" | \"doyu\" | \"edan\" | \"rul\"| \"with\" | \"yu\"\n",
        "VERB: \"áya\" | \"thi\" | \"yod\" | \"úuya\"\n",
        "ADJ: \"áya\"\n",
        "PRONOUN_STEM: \"l\" | \"n\" | \"b\"\n",
        "\n",
        "%import common.WS\n",
        "%ignore /([wo]?<!) /\n",
        "%ignore WS\n",
        "\"\"\"\n",
        "\n",
        "laadan_parser = Lark(laadan_grammar, start='start')"
      ],
      "metadata": {
        "id": "ae8PSb4QIJCn"
      },
      "execution_count": 61,
      "outputs": []
    },
    {
      "cell_type": "code",
      "source": [
        "sent = \"bíi eril yod le doyuth wa.\" # я съела яблоко\n",
        "tree = laadan_parser.parse(sent)\n",
        "print(tree.pretty())"
      ],
      "metadata": {
        "colab": {
          "base_uri": "https://localhost:8080/"
        },
        "id": "XXG9dlk9mZQQ",
        "outputId": "1e4c841b-0fab-42fe-a9f9-61ace6bda647"
      },
      "execution_count": 62,
      "outputs": [
        {
          "output_type": "stream",
          "name": "stdout",
          "text": [
            "start\n",
            "  sentence\n",
            "    verb_phrase\n",
            "      bíi\n",
            "      eril\n",
            "      verb_form\tyod\n",
            "    subject_phrase\n",
            "      pronoun_marked\tl\n",
            "    object_phrase\tdoyu\n",
            "    wa\n",
            "    .\n",
            "\n"
          ]
        }
      ]
    },
    {
      "cell_type": "markdown",
      "source": [
        "# Дерево"
      ],
      "metadata": {
        "id": "iDi3DS80ngYr"
      }
    },
    {
      "cell_type": "code",
      "source": [
        "def tree_to_anytree(lark_node, parent=None):\n",
        "    if isinstance(lark_node, Tree):\n",
        "        node = Node(lark_node.data, parent=parent)\n",
        "        for child in lark_node.children:\n",
        "            tree_to_anytree(child, parent=node)\n",
        "        return node\n",
        "    elif isinstance(lark_node, Token):\n",
        "        return Node(f\"{lark_node.type}: {lark_node.value}\", parent=parent)\n",
        "\n",
        "anytree_root = tree_to_anytree(laadan_parser.parse(\"bíi eril yod le doyuth wa.\"))\n",
        "for pre, _, node in RenderTree(anytree_root):\n",
        "    print(f\"{pre}{node.name}\")"
      ],
      "metadata": {
        "colab": {
          "base_uri": "https://localhost:8080/"
        },
        "id": "aeucKaIprdNS",
        "outputId": "38b2d670-2f79-4f9a-b231-60d621908621"
      },
      "execution_count": 71,
      "outputs": [
        {
          "output_type": "stream",
          "name": "stdout",
          "text": [
            "start\n",
            "└── sentence\n",
            "    ├── verb_phrase\n",
            "    │   ├── SPEECH_ACT_PARTICLE: bíi\n",
            "    │   ├── TENSE_PARTICLE: eril\n",
            "    │   └── verb_form\n",
            "    │       └── VERB: yod\n",
            "    ├── subject_phrase\n",
            "    │   └── pronoun_marked\n",
            "    │       └── PRONOUN_STEM: l\n",
            "    ├── object_phrase\n",
            "    │   └── NOUN: doyu\n",
            "    ├── EVIDENCE_PARTICLE: wa\n",
            "    └── EOS: .\n"
          ]
        }
      ]
    },
    {
      "cell_type": "code",
      "source": [
        "RenderTree(anytree_root)"
      ],
      "metadata": {
        "colab": {
          "base_uri": "https://localhost:8080/"
        },
        "id": "A8yHARTUzDT5",
        "outputId": "a3fcd4af-2d5e-482f-c8f4-280085c31a78"
      },
      "execution_count": 73,
      "outputs": [
        {
          "output_type": "execute_result",
          "data": {
            "text/plain": [
              "RenderTree(Node('/start'), style=ContStyle(), childiter=<class 'list'>)"
            ]
          },
          "metadata": {},
          "execution_count": 73
        }
      ]
    }
  ]
}